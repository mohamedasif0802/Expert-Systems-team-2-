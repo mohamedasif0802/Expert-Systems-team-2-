{
 "cells": [
  {
   "cell_type": "markdown",
   "id": "1a1a132a",
   "metadata": {},
   "source": [
    "# expert system"
   ]
  },
  {
   "cell_type": "code",
   "execution_count": 10,
   "id": "f1555581",
   "metadata": {
    "scrolled": true
   },
   "outputs": [
    {
     "name": "stdout",
     "output_type": "stream",
     "text": [
      "Welcome To JEE Main Enterance Exam:\n",
      "Please Enter Your Name:abinaya\n",
      "Please Enter Your Age:18\n",
      "for the following questions please enter either yes or no\n",
      "you studied in CBSE?yes\n",
      "did you get mark above 400 in SSCL?yes\n",
      "did you get mark above 500 in Higher SEC.?yes\n",
      "did you apply your form in offline mode.yes\n",
      "you have a chace for get highest percentage in JEE.\n"
     ]
    }
   ],
   "source": [
    "print(\"Welcome To JEE Main Enterance Exam:\")\n",
    "Name = input(\"Please Enter Your Name:\")\n",
    "age = int(input(\"Please Enter Your Age:\"))\n",
    "\n",
    "if age>=18:\n",
    "    print(\"for the following questions please enter either yes or no\")\n",
    "    \n",
    "    \n",
    "    pos=input(\"you studied in CBSE?\")\n",
    "    mark=input(\"did you get mark above 400 in SSCL?\")\n",
    "    score=input(\"did you get mark above 500 in Higher SEC.?\")\n",
    "    apply=input(\"did you apply your form in offline mode.\")\n",
    "else:\n",
    "    print(\"your are not old to attend JEE exam.\")\n",
    "    \n",
    "if pos == 'yes' and mark == 'no' and score == 'no':\n",
    "    if apply == 'no':\n",
    "        print(\"you can elligible to write JEE exam.\")\n",
    "    else:\n",
    "        print(\"you can elligible to write JEE exam,try your best.\")\n",
    "        print(\"try to get 90%.\")\n",
    "elif pos =='yes' and mark =='yes' and score =='yes':\n",
    "    print(\"you have a chace for get highest percentage in JEE.\")\n",
    "elif pos =='yes' and mark=='yes' and score=='no':\n",
    "    if apply=='no':\n",
    "        print(\"you can elligible to write JEE exam.\")\n",
    "    else:\n",
    "        print(\"you can elligible to write JEE exam, try your best.\")\n",
    "        print(\"try to get 90%.\")\n",
    "elif pos=='no' and mark=='no' and score =='no':\n",
    "    if apply == 'no':\n",
    "        print(\"you are not elligible for JEE exam,sorry.\")\n",
    "    else:\n",
    "        print(\"you first complete your CBSE.\")\n",
    "        print(\"try to get 400 above in SSLC.\")\n",
    "elif pos=='no' and mark=='yes' and score=='yes':\n",
    "    print(\"you have chance for get highest percentage in JEE.\")\n",
    "\n",
    "else:\n",
    "    print(\"you can elligible to write JEE exam, try your best.\")\n",
    "    print(\"try to get 90%.\")\n",
    "\n",
    "\n",
    "\n",
    "            \n",
    "\n"
   ]
  },
  {
   "cell_type": "code",
   "execution_count": null,
   "id": "2b413aeb",
   "metadata": {},
   "outputs": [],
   "source": []
  },
  {
   "cell_type": "code",
   "execution_count": null,
   "id": "8a92d863",
   "metadata": {},
   "outputs": [],
   "source": []
  }
 ],
 "metadata": {
  "kernelspec": {
   "display_name": "Python 3 (ipykernel)",
   "language": "python",
   "name": "python3"
  },
  "language_info": {
   "codemirror_mode": {
    "name": "ipython",
    "version": 3
   },
   "file_extension": ".py",
   "mimetype": "text/x-python",
   "name": "python",
   "nbconvert_exporter": "python",
   "pygments_lexer": "ipython3",
   "version": "3.9.13"
  }
 },
 "nbformat": 4,
 "nbformat_minor": 5
}
